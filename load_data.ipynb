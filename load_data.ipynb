{
 "cells": [
  {
   "cell_type": "code",
   "execution_count": 1,
   "id": "fa63dfaf",
   "metadata": {},
   "outputs": [],
   "source": [
    "import eikon as ek\n",
    "import pandas as pd\n",
    "import datetime as dt"
   ]
  },
  {
   "cell_type": "code",
   "execution_count": 2,
   "id": "f80d02a1",
   "metadata": {},
   "outputs": [],
   "source": [
    "ek.set_app_key('3b0d8ea51cd14fbdb146ec1c7bf0c758a3553e36')"
   ]
  },
  {
   "cell_type": "code",
   "execution_count": 3,
   "id": "a09ba171",
   "metadata": {},
   "outputs": [],
   "source": [
    "TICKERS = [\n",
    "    'ENEI.MI', 'ISP.MI', 'ENI.MI', 'RACE.MI', 'GASI.MI', 'CRDI.MI', 'SRG.MI', 'PST.MI', 'MONC.MI', '1913.HK',\n",
    "    'ATL.MI','TRN.MI', 'CPRI.MI','NEXII.MI','RECI.MI','TLIT.MI','INWT.MI', 'MDBI.MI', 'FBK.MI', 'AMPF.MI', \n",
    "    'DIAS.MI', 'US.MI', 'PRY.MI', 'BMED.MI', 'A2.MI', 'DLG.MI', 'HRA.MI', 'ITPG.MI', 'PIRC.MI', 'IG.MI',\n",
    "    'BZU.MI', 'REY.MI', 'BAMI.MI', 'ACE.MI', 'LDOF.MI', 'ATMI.MI', 'BGN.MI', 'ERG.MI', 'UNPI.MI', 'BRBI.MI', \n",
    "    'MS.MI', 'IREE.MI', 'SFER.MI', 'BCU.MI', 'AZMT.MI', 'EMII.MI', 'GVS.MI', 'CRLI.MI', 'TGYM.MI', 'ENAV.MI'\n",
    "]"
   ]
  },
  {
   "cell_type": "code",
   "execution_count": 4,
   "id": "c36797d0",
   "metadata": {},
   "outputs": [],
   "source": [
    "def load_ts_data(field: str, interval: str = 'monthly') -> pd.DataFrame:\n",
    "    return ek.get_timeseries(\n",
    "        TICKERS, \n",
    "        field, \n",
    "        interval=interval, \n",
    "        start_date=dt.datetime(2016, 1, 1, 0, 0, 0)\n",
    "    ) "
   ]
  },
  {
   "cell_type": "code",
   "execution_count": 5,
   "id": "b98d373e",
   "metadata": {},
   "outputs": [],
   "source": [
    "def load_factor_data(factor: str) -> pd.DataFrame:\n",
    "    df = pd.DataFrame()\n",
    "    for date in pd.date_range(start='2016-01-01', end='2021-04-30', freq='M'):\n",
    "        _df = ek.get_data(\n",
    "            TICKERS,\n",
    "            f'{factor}({date.strftime(\"%m/%Y\")})'\n",
    "        )[0]\n",
    "        factor_values = _df.iloc[:, 1]\n",
    "        factor_values.name = date\n",
    "        df = df.append(factor_values)\n",
    "    df.columns = TICKERS\n",
    "    return df"
   ]
  },
  {
   "cell_type": "code",
   "execution_count": 6,
   "id": "f1dd9c9e",
   "metadata": {},
   "outputs": [],
   "source": [
    "def load_factor_data2(factor: str) -> pd.DataFrame:\n",
    "    df = pd.DataFrame()\n",
    "    for date in pd.date_range(start='2016-01-01', end='2021-04-30', freq='M'):\n",
    "        _df = ek.get_data(\n",
    "            TICKERS,\n",
    "            f'{factor}(FY0, {date.strftime(\"%m/%Y\")})'\n",
    "        )[0]\n",
    "        factor_values = _df.iloc[:, 1]\n",
    "        factor_values.name = date\n",
    "        df = df.append(factor_values)\n",
    "    df.columns = TICKERS\n",
    "    return df"
   ]
  },
  {
   "cell_type": "markdown",
   "id": "5adffd0c",
   "metadata": {},
   "source": [
    "# Цена"
   ]
  },
  {
   "cell_type": "code",
   "execution_count": 154,
   "id": "14b307e2",
   "metadata": {},
   "outputs": [],
   "source": [
    "load_ts_data('Close').to_excel('data/price.xlsx')"
   ]
  },
  {
   "cell_type": "markdown",
   "id": "bce4c2f6",
   "metadata": {},
   "source": [
    "# Мультипликаторы"
   ]
  },
  {
   "cell_type": "code",
   "execution_count": 141,
   "id": "3cbb5ed5",
   "metadata": {},
   "outputs": [],
   "source": [
    "load_factor_data('TR.PE').to_excel('data/mults/pe.xlsx')"
   ]
  },
  {
   "cell_type": "code",
   "execution_count": 150,
   "id": "4237453d",
   "metadata": {},
   "outputs": [],
   "source": [
    "load_factor_data('TR.PriceToBVPerShare').to_excel('data/mults/pb.xlsx')"
   ]
  },
  {
   "cell_type": "code",
   "execution_count": 153,
   "id": "055539bc",
   "metadata": {},
   "outputs": [],
   "source": [
    "load_factor_data('TR.EVToEBITDA').to_excel('data/mults/ev_ebitda.xlsx')"
   ]
  },
  {
   "cell_type": "markdown",
   "id": "190628d8",
   "metadata": {},
   "source": [
    "# Метрики ликвидности"
   ]
  },
  {
   "cell_type": "code",
   "execution_count": null,
   "id": "a28ce403",
   "metadata": {},
   "outputs": [],
   "source": [
    "load_ts_data('Volume').to_excel('data/liquidity/volume.xlsx')"
   ]
  },
  {
   "cell_type": "code",
   "execution_count": 9,
   "id": "9f8b852f",
   "metadata": {},
   "outputs": [],
   "source": [
    "(load_factor_data('TR.ASKPRICE') - load_factor_data('TR.BIDPRICE')).to_excel('data/liquidity/bid_ask_spread.xlsx')"
   ]
  },
  {
   "cell_type": "markdown",
   "id": "18a8e963",
   "metadata": {},
   "source": [
    "# Финансовые показатели"
   ]
  },
  {
   "cell_type": "code",
   "execution_count": 157,
   "id": "c0f170fa",
   "metadata": {},
   "outputs": [],
   "source": [
    "load_factor_data('TR.CompanyMarketCap').to_excel('data/financials/market_cap.xlsx')"
   ]
  },
  {
   "cell_type": "code",
   "execution_count": 187,
   "id": "d8341252",
   "metadata": {},
   "outputs": [],
   "source": [
    "load_factor_data2('TR.TotalRevenue').to_excel('data/financials/revenue.xlsx')"
   ]
  },
  {
   "cell_type": "code",
   "execution_count": 191,
   "id": "1aa711e9",
   "metadata": {},
   "outputs": [],
   "source": [
    "load_factor_data2('TR.ROAActValue').to_excel('data/financials/roa.xlsx')"
   ]
  },
  {
   "cell_type": "code",
   "execution_count": 195,
   "id": "3db1a446",
   "metadata": {},
   "outputs": [],
   "source": [
    "load_factor_data2('TR.TotalDebtOutstanding').to_excel('data/financials/total_debt.xlsx')"
   ]
  },
  {
   "cell_type": "markdown",
   "id": "5f01ba27",
   "metadata": {},
   "source": [
    "# Бенчмарк"
   ]
  },
  {
   "cell_type": "code",
   "execution_count": 12,
   "id": "0f4e84af",
   "metadata": {},
   "outputs": [],
   "source": [
    "ek.get_timeseries(\n",
    "    '.FTITLMS', \n",
    "    'Close', \n",
    "    interval='monthly', \n",
    "    start_date=dt.datetime(2016, 1, 1, 0, 0, 0)\n",
    ").to_excel('data/benchmark.xlsx')"
   ]
  },
  {
   "cell_type": "markdown",
   "id": "f3e33873",
   "metadata": {},
   "source": [
    "# Инфляция"
   ]
  },
  {
   "cell_type": "code",
   "execution_count": 26,
   "id": "7db11939",
   "metadata": {},
   "outputs": [],
   "source": [
    "inf = pd.read_csv('data/inflation.csv', sep=';', index_col='Date', parse_dates=True)\n",
    "inf.columns = ['Inflation Rate']\n",
    "\n",
    "inf['Inflation Rate'] = inf['Inflation Rate'].apply(lambda x: float(x.replace(',', '.')))\n",
    "\n",
    "inf.to_excel('data/inflation.xlsx')"
   ]
  },
  {
   "cell_type": "code",
   "execution_count": 25,
   "id": "c71befcb",
   "metadata": {},
   "outputs": [],
   "source": []
  },
  {
   "cell_type": "code",
   "execution_count": 8,
   "id": "74c8f160",
   "metadata": {},
   "outputs": [
    {
     "data": {
      "text/plain": [
       "(  Instrument  Bid Price\n",
       " 0     ISP.MI      2.342,\n",
       " None)"
      ]
     },
     "execution_count": 8,
     "metadata": {},
     "output_type": "execute_result"
    }
   ],
   "source": [
    "ek.get_data(\n",
    "    ['ISP.MI'],\n",
    "    'TR.BIDPRICE(02/2016)'\n",
    ")"
   ]
  },
  {
   "cell_type": "code",
   "execution_count": null,
   "id": "3b0c6df7",
   "metadata": {},
   "outputs": [],
   "source": []
  }
 ],
 "metadata": {
  "kernelspec": {
   "display_name": "Python 3",
   "language": "python",
   "name": "python3"
  },
  "language_info": {
   "codemirror_mode": {
    "name": "ipython",
    "version": 3
   },
   "file_extension": ".py",
   "mimetype": "text/x-python",
   "name": "python",
   "nbconvert_exporter": "python",
   "pygments_lexer": "ipython3",
   "version": "3.9.5"
  }
 },
 "nbformat": 4,
 "nbformat_minor": 5
}
